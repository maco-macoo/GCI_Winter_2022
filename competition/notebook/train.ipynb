{
 "cells": [
  {
   "attachments": {},
   "cell_type": "markdown",
   "metadata": {},
   "source": [
    "ライブラリの読み込み"
   ]
  },
  {
   "cell_type": "code",
   "execution_count": 11,
   "metadata": {},
   "outputs": [],
   "source": [
    "\n",
    "import numpy as np\n",
    "import pandas as pd\n",
    "import matplotlib.pyplot as plt\n",
    "from tqdm.notebook import tqdm\n",
    "import seaborn as sns\n",
    "\n",
    "import warnings\n",
    "warnings.filterwarnings('ignore')"
   ]
  },
  {
   "cell_type": "code",
   "execution_count": 9,
   "metadata": {},
   "outputs": [],
   "source": [
    "from sklearn.model_selection import train_test_split\n",
    "from sklearn.preprocessing import StandardScaler\n",
    "from sklearn.metrics import roc_auc_score"
   ]
  },
  {
   "attachments": {},
   "cell_type": "markdown",
   "metadata": {},
   "source": [
    "データの読み込み"
   ]
  },
  {
   "cell_type": "code",
   "execution_count": 5,
   "metadata": {},
   "outputs": [
    {
     "data": {
      "text/plain": [
       "((232702, 138), (61500, 2))"
      ]
     },
     "execution_count": 5,
     "metadata": {},
     "output_type": "execute_result"
    }
   ],
   "source": [
    "INPUT_DIR = \"C:/Users/sato-makoto/OneDrive - Hiroshima University/code/GCI/data/\"\n",
    "\n",
    "df = pd.read_csv(INPUT_DIR + \"preprocessed.csv\")\n",
    "submittion = pd.read_csv(INPUT_DIR + \"sample_submission.csv\")\n",
    "df.shape, submittion.shape"
   ]
  },
  {
   "attachments": {},
   "cell_type": "markdown",
   "metadata": {},
   "source": [
    "dfをtrainとtestに分割"
   ]
  },
  {
   "cell_type": "code",
   "execution_count": 6,
   "metadata": {},
   "outputs": [
    {
     "data": {
      "text/plain": [
       "((171202, 138), (61500, 138))"
      ]
     },
     "execution_count": 6,
     "metadata": {},
     "output_type": "execute_result"
    }
   ],
   "source": [
    "train = df[df[\"TARGET\"].notnull()]\n",
    "test = df[df[\"TARGET\"].isnull()]\n",
    "train.shape, test.shape"
   ]
  },
  {
   "attachments": {},
   "cell_type": "markdown",
   "metadata": {},
   "source": [
    "trainを目的関数と説明変数に分割"
   ]
  },
  {
   "cell_type": "code",
   "execution_count": 7,
   "metadata": {},
   "outputs": [
    {
     "data": {
      "text/plain": [
       "((171202, 137), (171202,), (61500, 137))"
      ]
     },
     "execution_count": 7,
     "metadata": {},
     "output_type": "execute_result"
    }
   ],
   "source": [
    "# 目的変数と説明変数に分割\n",
    "X = train.drop(\"TARGET\", axis=1).values\n",
    "y = train[\"TARGET\"].values\n",
    "test = test.drop(\"TARGET\", axis=1).values\n",
    "\n",
    "X.shape, y.shape, test.shape"
   ]
  },
  {
   "attachments": {},
   "cell_type": "markdown",
   "metadata": {},
   "source": [
    "学習"
   ]
  },
  {
   "cell_type": "code",
   "execution_count": 13,
   "metadata": {},
   "outputs": [
    {
     "data": {
      "application/vnd.jupyter.widget-view+json": {
       "model_id": "3cb7d6002194498e93deeb8daaaf7820",
       "version_major": 2,
       "version_minor": 0
      },
      "text/plain": [
       "  0%|          | 0/10 [00:00<?, ?it/s]"
      ]
     },
     "metadata": {},
     "output_type": "display_data"
    }
   ],
   "source": [
    "from sklearn.model_selection import KFold\n",
    "from lightgbm import LGBMClassifier\n",
    "\n",
    "kf = KFold(n_splits = 10, shuffle = True)\n",
    "\n",
    "roc_mean = []\n",
    "test_pred = []\n",
    "\n",
    "for train_index, valid_index in tqdm(kf.split(X), total=10):\n",
    "  X_train = X[train_index]\n",
    "  X_valid = X[valid_index]\n",
    "  y_train = y[train_index]\n",
    "  y_valid = y[valid_index]\n",
    "\n",
    "  lgb = LGBMClassifier(random_state=0)\n",
    "  lgb.fit(X_train, y_train)\n",
    "\n",
    "  lgb_valid_pred = lgb.predict_proba(X_valid)[:, 1]\n",
    "  roc_mean.append(roc_auc_score(y_valid, lgb_valid_pred))\n",
    "\n",
    "  lgb_test_pred = lgb.predict_proba(test)[:, 1]\n",
    "  test_pred.append(lgb_test_pred)"
   ]
  },
  {
   "cell_type": "code",
   "execution_count": 22,
   "metadata": {},
   "outputs": [
    {
     "data": {
      "application/vnd.jupyter.widget-view+json": {
       "model_id": "11b60bf5fedc48c8aac67f2dc59e03ab",
       "version_major": 2,
       "version_minor": 0
      },
      "text/plain": [
       "  0%|          | 0/10 [00:00<?, ?it/s]"
      ]
     },
     "metadata": {},
     "output_type": "display_data"
    },
    {
     "name": "stdout",
     "output_type": "stream",
     "text": [
      "Train Score: 0.8707210289422385\n",
      "Valid Score: 0.7374364371216026\n",
      "Train Score: 0.8678236784729499\n",
      "Valid Score: 0.7533451763506813\n",
      "Train Score: 0.8649615640203004\n",
      "Valid Score: 0.7525645864834621\n",
      "Train Score: 0.8691373736019541\n",
      "Valid Score: 0.7293139934694892\n",
      "Train Score: 0.8691744349995207\n",
      "Valid Score: 0.7460900817809408\n",
      "Train Score: 0.8642768251094535\n",
      "Valid Score: 0.7319237645083089\n",
      "Train Score: 0.8626714148444891\n",
      "Valid Score: 0.7435601826608507\n",
      "Train Score: 0.864865312683323\n",
      "Valid Score: 0.7342385746727849\n",
      "Train Score: 0.8659180190703948\n",
      "Valid Score: 0.7445685541699543\n",
      "Train Score: 0.8674121992986333\n",
      "Valid Score: 0.7442023818880522\n"
     ]
    }
   ],
   "source": [
    "# XGBClassifier\n",
    "from xgboost import XGBClassifier\n",
    "\n",
    "kf = KFold(n_splits = 10, shuffle = True)\n",
    "\n",
    "for train_index, valid_index in tqdm(kf.split(X), total=10):\n",
    "  X_train = X[train_index]\n",
    "  X_valid = X[valid_index]\n",
    "  y_train = y[train_index]\n",
    "  y_valid = y[valid_index]\n",
    "\n",
    "  xgb = XGBClassifier(random_state=0)\n",
    "  xgb.fit(X_train, y_train)\n",
    "  \n",
    "  xgb_train_pred = xgb.predict_proba(X_train)[:, 1]\n",
    "  xgb_valid_pred = xgb.predict_proba(X_valid)[:, 1]\n",
    "  print(f\"Train Score: {roc_auc_score(y_train, xgb_train_pred)}\")\n",
    "  print(f\"Valid Score: {roc_auc_score(y_valid, xgb_valid_pred)}\")"
   ]
  },
  {
   "attachments": {},
   "cell_type": "markdown",
   "metadata": {},
   "source": [
    "ROCの平均"
   ]
  },
  {
   "cell_type": "code",
   "execution_count": 14,
   "metadata": {},
   "outputs": [
    {
     "data": {
      "text/plain": [
       "0.7493384914846328"
      ]
     },
     "execution_count": 14,
     "metadata": {},
     "output_type": "execute_result"
    }
   ],
   "source": [
    "np.mean(roc_mean)"
   ]
  },
  {
   "attachments": {},
   "cell_type": "markdown",
   "metadata": {},
   "source": [
    "予測結果を作成"
   ]
  },
  {
   "cell_type": "code",
   "execution_count": 15,
   "metadata": {},
   "outputs": [
    {
     "data": {
      "text/html": [
       "<div>\n",
       "<style scoped>\n",
       "    .dataframe tbody tr th:only-of-type {\n",
       "        vertical-align: middle;\n",
       "    }\n",
       "\n",
       "    .dataframe tbody tr th {\n",
       "        vertical-align: top;\n",
       "    }\n",
       "\n",
       "    .dataframe thead th {\n",
       "        text-align: right;\n",
       "    }\n",
       "</style>\n",
       "<table border=\"1\" class=\"dataframe\">\n",
       "  <thead>\n",
       "    <tr style=\"text-align: right;\">\n",
       "      <th></th>\n",
       "      <th>SK_ID_CURR</th>\n",
       "      <th>TARGET</th>\n",
       "    </tr>\n",
       "  </thead>\n",
       "  <tbody>\n",
       "    <tr>\n",
       "      <th>0</th>\n",
       "      <td>171202</td>\n",
       "      <td>0.027459</td>\n",
       "    </tr>\n",
       "    <tr>\n",
       "      <th>1</th>\n",
       "      <td>171203</td>\n",
       "      <td>0.146123</td>\n",
       "    </tr>\n",
       "    <tr>\n",
       "      <th>2</th>\n",
       "      <td>171204</td>\n",
       "      <td>0.126208</td>\n",
       "    </tr>\n",
       "    <tr>\n",
       "      <th>3</th>\n",
       "      <td>171205</td>\n",
       "      <td>0.099122</td>\n",
       "    </tr>\n",
       "    <tr>\n",
       "      <th>4</th>\n",
       "      <td>171206</td>\n",
       "      <td>0.196501</td>\n",
       "    </tr>\n",
       "    <tr>\n",
       "      <th>...</th>\n",
       "      <td>...</td>\n",
       "      <td>...</td>\n",
       "    </tr>\n",
       "    <tr>\n",
       "      <th>61495</th>\n",
       "      <td>232697</td>\n",
       "      <td>0.141894</td>\n",
       "    </tr>\n",
       "    <tr>\n",
       "      <th>61496</th>\n",
       "      <td>232698</td>\n",
       "      <td>0.045194</td>\n",
       "    </tr>\n",
       "    <tr>\n",
       "      <th>61497</th>\n",
       "      <td>232699</td>\n",
       "      <td>0.039691</td>\n",
       "    </tr>\n",
       "    <tr>\n",
       "      <th>61498</th>\n",
       "      <td>232700</td>\n",
       "      <td>0.105825</td>\n",
       "    </tr>\n",
       "    <tr>\n",
       "      <th>61499</th>\n",
       "      <td>232701</td>\n",
       "      <td>0.140863</td>\n",
       "    </tr>\n",
       "  </tbody>\n",
       "</table>\n",
       "<p>61500 rows × 2 columns</p>\n",
       "</div>"
      ],
      "text/plain": [
       "       SK_ID_CURR    TARGET\n",
       "0          171202  0.027459\n",
       "1          171203  0.146123\n",
       "2          171204  0.126208\n",
       "3          171205  0.099122\n",
       "4          171206  0.196501\n",
       "...           ...       ...\n",
       "61495      232697  0.141894\n",
       "61496      232698  0.045194\n",
       "61497      232699  0.039691\n",
       "61498      232700  0.105825\n",
       "61499      232701  0.140863\n",
       "\n",
       "[61500 rows x 2 columns]"
      ]
     },
     "execution_count": 15,
     "metadata": {},
     "output_type": "execute_result"
    }
   ],
   "source": [
    "submittion['TARGET'] = np.mean(test_pred, axis=0)\n",
    "submittion"
   ]
  },
  {
   "attachments": {},
   "cell_type": "markdown",
   "metadata": {},
   "source": [
    "CSV出力"
   ]
  },
  {
   "cell_type": "code",
   "execution_count": 16,
   "metadata": {},
   "outputs": [],
   "source": [
    "submittion.to_csv('pred.csv',index=False)"
   ]
  }
 ],
 "metadata": {
  "kernelspec": {
   "display_name": "Python 3",
   "language": "python",
   "name": "python3"
  },
  "language_info": {
   "codemirror_mode": {
    "name": "ipython",
    "version": 3
   },
   "file_extension": ".py",
   "mimetype": "text/x-python",
   "name": "python",
   "nbconvert_exporter": "python",
   "pygments_lexer": "ipython3",
   "version": "3.11.3"
  },
  "orig_nbformat": 4
 },
 "nbformat": 4,
 "nbformat_minor": 2
}
